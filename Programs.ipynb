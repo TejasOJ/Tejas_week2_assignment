{
 "cells": [
  {
   "cell_type": "code",
   "execution_count": 4,
   "id": "540df543",
   "metadata": {},
   "outputs": [
    {
     "name": "stdout",
     "output_type": "stream",
     "text": [
      "\n",
      "Student Management System\n",
      "1. Add Student\n",
      "2. Remove Student\n",
      "3. Display Students\n",
      "4. Exit\n",
      "Enter your choice (1-4): q\n",
      "Invalid choice. Please select a number between 1 and 4.\n",
      "\n",
      "Student Management System\n",
      "1. Add Student\n",
      "2. Remove Student\n",
      "3. Display Students\n",
      "4. Exit\n",
      "Enter your choice (1-4): 1\n",
      "Name of the student to add: raj\n",
      "raj has been added.\n",
      "\n",
      "Student Management System\n",
      "1. Add Student\n",
      "2. Remove Student\n",
      "3. Display Students\n",
      "4. Exit\n",
      "Enter your choice (1-4): 1\n",
      "Name of the student to add: deep\n",
      "deep has been added.\n",
      "\n",
      "Student Management System\n",
      "1. Add Student\n",
      "2. Remove Student\n",
      "3. Display Students\n",
      "4. Exit\n",
      "Enter your choice (1-4): 3\n",
      "List of Students:\n",
      "- raj\n",
      "- deep\n",
      "\n",
      "Student Management System\n",
      "1. Add Student\n",
      "2. Remove Student\n",
      "3. Display Students\n",
      "4. Exit\n",
      "Enter your choice (1-4): 2\n",
      "Name of the student to remove: deep\n",
      "deep has been removed.\n",
      "\n",
      "Student Management System\n",
      "1. Add Student\n",
      "2. Remove Student\n",
      "3. Display Students\n",
      "4. Exit\n",
      "Enter your choice (1-4): 4\n",
      "Exiting the program.\n"
     ]
    }
   ],
   "source": [
    "def display():\n",
    "    print(\"1. Add Student\")\n",
    "    print(\"2. Remove Student\")\n",
    "    print(\"3. Display Students\")\n",
    "    print(\"4. Exit\")\n",
    "\n",
    "def add(student_list):\n",
    "    name = input(\"Name of the student to add: \").strip()\n",
    "    if name:\n",
    "        student_list.append(name)\n",
    "        print(f\"{name} has been added.\")\n",
    "    else:\n",
    "        print(\"No name entered\")\n",
    "\n",
    "def remove(student_list):\n",
    "    name = input(\"Name of the student to remove: \").strip()\n",
    "    if name in student_list:\n",
    "        student_list.remove(name)\n",
    "        print(f\"{name} has been removed.\")\n",
    "    else:\n",
    "        print(f\"{name} is not in the list.\")\n",
    "\n",
    "def display_students(student_list):\n",
    "    if student_list:\n",
    "        print(\"List of Students:\")\n",
    "        for student in student_list:\n",
    "            print(f\"{student}\")\n",
    "    else:\n",
    "        print(\"The student list is empty.\")\n",
    "\n",
    "def main():\n",
    "    student_list = []\n",
    "    while True:\n",
    "        display()\n",
    "        choice = input(\"Enter your choice (1-4): \").strip()\n",
    "        \n",
    "        if choice == '1':\n",
    "            add(student_list)\n",
    "        elif choice == '2':\n",
    "            remove(student_list)\n",
    "        elif choice == '3':\n",
    "            display_students(student_list)\n",
    "        elif choice == '4':\n",
    "            print(\"Exiting the program.\")\n",
    "            break\n",
    "        else:\n",
    "            print(\"Invalid choice. Please select a number between 1 and 4.\")\n",
    "\n",
    "if __name__ == \"__main__\":\n",
    "    main()\n"
   ]
  },
  {
   "cell_type": "code",
   "execution_count": 5,
   "id": "3058f774",
   "metadata": {},
   "outputs": [
    {
     "name": "stdout",
     "output_type": "stream",
     "text": [
      "Enter stringhello what is your name\n",
      "hello : 1\n",
      "what : 1\n",
      "is : 1\n",
      "your : 1\n",
      "name : 1\n"
     ]
    }
   ],
   "source": [
    "# Write a script that counts the frequency of words in given text and stores result dictionary.\n",
    "\n",
    "text = input(\"Enter string\")\n",
    "dic = dict() \n",
    "text = text.lower() \n",
    "words = text.split(\" \") \n",
    "for word in words: \n",
    "    if word in dic: \n",
    "        dic[word] = dic[word] + 1\n",
    "    else: \n",
    "        dic[word] = 1\n",
    "\n",
    "for key in list(dic.keys()): \n",
    "    print(key, \":\", dic[key]) "
   ]
  },
  {
   "cell_type": "code",
   "execution_count": 12,
   "id": "92ff0cb1",
   "metadata": {},
   "outputs": [
    {
     "name": "stdout",
     "output_type": "stream",
     "text": [
      "Tuple with even numbers: (2, 4, 6, 8, 10)\n"
     ]
    }
   ],
   "source": [
    "#Implement a program that takes tuple of integers and returns new with even numbers only.\n",
    "\n",
    "def filter_even_num(input_tuple):\n",
    "    even_num = [number for number in input_tuple if number % 2 == 0]\n",
    "    return tuple(even_num)\n",
    "def main():\n",
    "    input_tuple = (1, 2, 3, 4, 5, 6, 7, 8, 9, 10)   \n",
    "    result = filter_even_num(input_tuple)\n",
    "    print(\"Tuple with even numbers:\", result)\n",
    "\n",
    "if __name__ == \"__main__\":\n",
    "    main()\n",
    "\n"
   ]
  },
  {
   "cell_type": "code",
   "execution_count": null,
   "id": "24f0d66d",
   "metadata": {},
   "outputs": [],
   "source": []
  }
 ],
 "metadata": {
  "kernelspec": {
   "display_name": "Python 3 (ipykernel)",
   "language": "python",
   "name": "python3"
  },
  "language_info": {
   "codemirror_mode": {
    "name": "ipython",
    "version": 3
   },
   "file_extension": ".py",
   "mimetype": "text/x-python",
   "name": "python",
   "nbconvert_exporter": "python",
   "pygments_lexer": "ipython3",
   "version": "3.11.7"
  }
 },
 "nbformat": 4,
 "nbformat_minor": 5
}
